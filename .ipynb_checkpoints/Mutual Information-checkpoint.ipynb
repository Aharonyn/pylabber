{
 "cells": [
  {
   "cell_type": "code",
   "execution_count": 1,
   "metadata": {},
   "outputs": [
    {
     "name": "stdout",
     "output_type": "stream",
     "text": [
      "83\n"
     ]
    }
   ],
   "source": [
    "%matplotlib inline\n",
    "\n",
    "import seaborn as sns\n",
    "from mri.models import Scan\n",
    "from mutual_information.models import MutualInformationScore\n",
    "from research.models import Subject\n",
    "\n",
    "\n",
    "doubles = [subject for subject in Subject.objects.all() if subject.scan_set.values('time__date').distinct().count() > 1] \n",
    "subject = doubles[0]\n",
    "df = MutualInformationScore.objects.generate_scan_df(subject.get_default_anatomical())\n",
    "compared_with_others = df[df['subject_id'] != subject.id_number]\n",
    "compared_with_self = df[df['subject_id'] == subject.id_number]\n",
    "\n"
   ]
  }
 ],
 "metadata": {
  "kernelspec": {
   "display_name": "Django Shell-Plus",
   "language": "python",
   "name": "django_extensions"
  },
  "language_info": {
   "codemirror_mode": {
    "name": "ipython",
    "version": 3
   },
   "file_extension": ".py",
   "mimetype": "text/x-python",
   "name": "python",
   "nbconvert_exporter": "python",
   "pygments_lexer": "ipython3",
   "version": "3.6.5"
  }
 },
 "nbformat": 4,
 "nbformat_minor": 2
}
